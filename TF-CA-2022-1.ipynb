{
  "nbformat": 4,
  "nbformat_minor": 0,
  "metadata": {
    "colab": {
      "name": "TF_Hito0.ipynb",
      "provenance": [],
      "collapsed_sections": [],
      "authorship_tag": "ABX9TyMGVQoW2RJrzCl/+VFZN2ZQ",
      "include_colab_link": true
    },
    "kernelspec": {
      "name": "python3",
      "display_name": "Python 3"
    },
    "language_info": {
      "name": "python"
    }
  },
  "cells": [
    {
      "cell_type": "markdown",
      "metadata": {
        "id": "view-in-github",
        "colab_type": "text"
      },
      "source": [
        "<a href=\"https://colab.research.google.com/github/DiegoKNR/TF_201620127/blob/main/TF-CA-2022-1.ipynb\" target=\"_parent\"><img src=\"https://colab.research.google.com/assets/colab-badge.svg\" alt=\"Open In Colab\"/></a>"
      ]
    },
    {
      "cell_type": "markdown",
      "source": [
        "1. Clonamos el git en el que estamos trabajando"
      ],
      "metadata": {
        "id": "lBK4FmsX5HAs"
      }
    },
    {
      "cell_type": "code",
      "execution_count": 17,
      "metadata": {
        "colab": {
          "base_uri": "https://localhost:8080/"
        },
        "id": "JJutlI0IcyFK",
        "outputId": "194fb2b8-dd59-4999-94dd-3767bf0dd551"
      },
      "outputs": [
        {
          "output_type": "stream",
          "name": "stdout",
          "text": [
            "Cloning into 'TF_201620127'...\n",
            "remote: Enumerating objects: 49, done.\u001b[K\n",
            "remote: Counting objects: 100% (49/49), done.\u001b[K\n",
            "remote: Compressing objects: 100% (45/45), done.\u001b[K\n",
            "remote: Total 49 (delta 18), reused 0 (delta 0), pack-reused 0\u001b[K\n",
            "Unpacking objects: 100% (49/49), done.\n"
          ]
        }
      ],
      "source": [
        "!git clone https://github.com/DiegoKNR/TF_201620127.git"
      ]
    },
    {
      "cell_type": "markdown",
      "source": [
        "2. Llamamos a las librerias necesarias para implementar el código"
      ],
      "metadata": {
        "id": "NAIVUJ8U5NUd"
      }
    },
    {
      "cell_type": "code",
      "source": [
        "from TF_201620127.aclib import graphstuff as gs"
      ],
      "metadata": {
        "id": "YVNJfu6zuA-R"
      },
      "execution_count": 18,
      "outputs": []
    },
    {
      "cell_type": "code",
      "source": [
        "import pandas as pd \n",
        "import numpy as np \n",
        "import networkx as nx\n",
        "import math"
      ],
      "metadata": {
        "id": "bCkZ2d6OwD2p"
      },
      "execution_count": 4,
      "outputs": []
    },
    {
      "cell_type": "markdown",
      "source": [
        "3. Se llama a los archivos de la base de datos con el url compartido"
      ],
      "metadata": {
        "id": "BcLtkEGB5VlE"
      }
    },
    {
      "cell_type": "code",
      "source": [
        "url = \"https://raw.githubusercontent.com/DiegoKNR/TF-201620127-201715721-201911924/main/Database/Lima-intersecciones.csv\"\n",
        "\n",
        "intersecciones = pd.read_csv(url)"
      ],
      "metadata": {
        "id": "tEWMcIKNw-cx"
      },
      "execution_count": 5,
      "outputs": []
    },
    {
      "cell_type": "markdown",
      "source": [
        "4. Comprobamos que tenemos la base de datos con las intersecciones y direcciones de cada calle"
      ],
      "metadata": {
        "id": "ni7mpajE5f9a"
      }
    },
    {
      "cell_type": "code",
      "source": [
        "intersecciones.head()"
      ],
      "metadata": {
        "colab": {
          "base_uri": "https://localhost:8080/",
          "height": 206
        },
        "id": "NucTTHD5xyUZ",
        "outputId": "fa17fa21-1110-4c8a-eb5c-1e9a2e33ac59"
      },
      "execution_count": 19,
      "outputs": [
        {
          "output_type": "execute_result",
          "data": {
            "text/plain": [
              "   ID  ID CALLE           NOMBRE  ID ORIGEN   ID DESTINO  ORIGEN   DESTINO  \\\n",
              "0   1   4827820  PLAZA 2 DE MAYO   31035122     31035142       1         6   \n",
              "1   2   4827820  PLAZA 2 DE MAYO   31035142     31035109       6     90275   \n",
              "2   3   4827820  PLAZA 2 DE MAYO   31035109     31035110   90275        79   \n",
              "3   4   4827820  PLAZA 2 DE MAYO   31035110     31035112      79     51668   \n",
              "4   5   4827820  PLAZA 2 DE MAYO   31035112     31035113   51668         7   \n",
              "\n",
              "   DISTANCIA KM  VELOCIDAD KM/H     COSTO  COSTO INVERSO  LATITUD ORIGEN  \\\n",
              "0      0.038973              70  0.000557      1000000.0      -12.045931   \n",
              "1      0.004040              70  0.000058      1000000.0      -12.046096   \n",
              "2      0.018227              70  0.000260      1000000.0      -12.046125   \n",
              "3      0.037674              70  0.000538      1000000.0      -12.046277   \n",
              "4      0.010827              70  0.000155      1000000.0      -12.046603   \n",
              "\n",
              "   LONGITUD ORIGEN  LATITUD DESTINO  LONGITUD DESTINO  \n",
              "0       -77.042783       -12.046096        -77.043090  \n",
              "1       -77.043090       -12.046125        -77.043111  \n",
              "2       -77.043111       -12.046277        -77.043175  \n",
              "3       -77.043175       -12.046603        -77.043112  \n",
              "4       -77.043112       -12.046678        -77.043048  "
            ],
            "text/html": [
              "\n",
              "  <div id=\"df-9ada5a50-f8f8-41a7-841f-94e600e72001\">\n",
              "    <div class=\"colab-df-container\">\n",
              "      <div>\n",
              "<style scoped>\n",
              "    .dataframe tbody tr th:only-of-type {\n",
              "        vertical-align: middle;\n",
              "    }\n",
              "\n",
              "    .dataframe tbody tr th {\n",
              "        vertical-align: top;\n",
              "    }\n",
              "\n",
              "    .dataframe thead th {\n",
              "        text-align: right;\n",
              "    }\n",
              "</style>\n",
              "<table border=\"1\" class=\"dataframe\">\n",
              "  <thead>\n",
              "    <tr style=\"text-align: right;\">\n",
              "      <th></th>\n",
              "      <th>ID</th>\n",
              "      <th>ID CALLE</th>\n",
              "      <th>NOMBRE</th>\n",
              "      <th>ID ORIGEN</th>\n",
              "      <th>ID DESTINO</th>\n",
              "      <th>ORIGEN</th>\n",
              "      <th>DESTINO</th>\n",
              "      <th>DISTANCIA KM</th>\n",
              "      <th>VELOCIDAD KM/H</th>\n",
              "      <th>COSTO</th>\n",
              "      <th>COSTO INVERSO</th>\n",
              "      <th>LATITUD ORIGEN</th>\n",
              "      <th>LONGITUD ORIGEN</th>\n",
              "      <th>LATITUD DESTINO</th>\n",
              "      <th>LONGITUD DESTINO</th>\n",
              "    </tr>\n",
              "  </thead>\n",
              "  <tbody>\n",
              "    <tr>\n",
              "      <th>0</th>\n",
              "      <td>1</td>\n",
              "      <td>4827820</td>\n",
              "      <td>PLAZA 2 DE MAYO</td>\n",
              "      <td>31035122</td>\n",
              "      <td>31035142</td>\n",
              "      <td>1</td>\n",
              "      <td>6</td>\n",
              "      <td>0.038973</td>\n",
              "      <td>70</td>\n",
              "      <td>0.000557</td>\n",
              "      <td>1000000.0</td>\n",
              "      <td>-12.045931</td>\n",
              "      <td>-77.042783</td>\n",
              "      <td>-12.046096</td>\n",
              "      <td>-77.043090</td>\n",
              "    </tr>\n",
              "    <tr>\n",
              "      <th>1</th>\n",
              "      <td>2</td>\n",
              "      <td>4827820</td>\n",
              "      <td>PLAZA 2 DE MAYO</td>\n",
              "      <td>31035142</td>\n",
              "      <td>31035109</td>\n",
              "      <td>6</td>\n",
              "      <td>90275</td>\n",
              "      <td>0.004040</td>\n",
              "      <td>70</td>\n",
              "      <td>0.000058</td>\n",
              "      <td>1000000.0</td>\n",
              "      <td>-12.046096</td>\n",
              "      <td>-77.043090</td>\n",
              "      <td>-12.046125</td>\n",
              "      <td>-77.043111</td>\n",
              "    </tr>\n",
              "    <tr>\n",
              "      <th>2</th>\n",
              "      <td>3</td>\n",
              "      <td>4827820</td>\n",
              "      <td>PLAZA 2 DE MAYO</td>\n",
              "      <td>31035109</td>\n",
              "      <td>31035110</td>\n",
              "      <td>90275</td>\n",
              "      <td>79</td>\n",
              "      <td>0.018227</td>\n",
              "      <td>70</td>\n",
              "      <td>0.000260</td>\n",
              "      <td>1000000.0</td>\n",
              "      <td>-12.046125</td>\n",
              "      <td>-77.043111</td>\n",
              "      <td>-12.046277</td>\n",
              "      <td>-77.043175</td>\n",
              "    </tr>\n",
              "    <tr>\n",
              "      <th>3</th>\n",
              "      <td>4</td>\n",
              "      <td>4827820</td>\n",
              "      <td>PLAZA 2 DE MAYO</td>\n",
              "      <td>31035110</td>\n",
              "      <td>31035112</td>\n",
              "      <td>79</td>\n",
              "      <td>51668</td>\n",
              "      <td>0.037674</td>\n",
              "      <td>70</td>\n",
              "      <td>0.000538</td>\n",
              "      <td>1000000.0</td>\n",
              "      <td>-12.046277</td>\n",
              "      <td>-77.043175</td>\n",
              "      <td>-12.046603</td>\n",
              "      <td>-77.043112</td>\n",
              "    </tr>\n",
              "    <tr>\n",
              "      <th>4</th>\n",
              "      <td>5</td>\n",
              "      <td>4827820</td>\n",
              "      <td>PLAZA 2 DE MAYO</td>\n",
              "      <td>31035112</td>\n",
              "      <td>31035113</td>\n",
              "      <td>51668</td>\n",
              "      <td>7</td>\n",
              "      <td>0.010827</td>\n",
              "      <td>70</td>\n",
              "      <td>0.000155</td>\n",
              "      <td>1000000.0</td>\n",
              "      <td>-12.046603</td>\n",
              "      <td>-77.043112</td>\n",
              "      <td>-12.046678</td>\n",
              "      <td>-77.043048</td>\n",
              "    </tr>\n",
              "  </tbody>\n",
              "</table>\n",
              "</div>\n",
              "      <button class=\"colab-df-convert\" onclick=\"convertToInteractive('df-9ada5a50-f8f8-41a7-841f-94e600e72001')\"\n",
              "              title=\"Convert this dataframe to an interactive table.\"\n",
              "              style=\"display:none;\">\n",
              "        \n",
              "  <svg xmlns=\"http://www.w3.org/2000/svg\" height=\"24px\"viewBox=\"0 0 24 24\"\n",
              "       width=\"24px\">\n",
              "    <path d=\"M0 0h24v24H0V0z\" fill=\"none\"/>\n",
              "    <path d=\"M18.56 5.44l.94 2.06.94-2.06 2.06-.94-2.06-.94-.94-2.06-.94 2.06-2.06.94zm-11 1L8.5 8.5l.94-2.06 2.06-.94-2.06-.94L8.5 2.5l-.94 2.06-2.06.94zm10 10l.94 2.06.94-2.06 2.06-.94-2.06-.94-.94-2.06-.94 2.06-2.06.94z\"/><path d=\"M17.41 7.96l-1.37-1.37c-.4-.4-.92-.59-1.43-.59-.52 0-1.04.2-1.43.59L10.3 9.45l-7.72 7.72c-.78.78-.78 2.05 0 2.83L4 21.41c.39.39.9.59 1.41.59.51 0 1.02-.2 1.41-.59l7.78-7.78 2.81-2.81c.8-.78.8-2.07 0-2.86zM5.41 20L4 18.59l7.72-7.72 1.47 1.35L5.41 20z\"/>\n",
              "  </svg>\n",
              "      </button>\n",
              "      \n",
              "  <style>\n",
              "    .colab-df-container {\n",
              "      display:flex;\n",
              "      flex-wrap:wrap;\n",
              "      gap: 12px;\n",
              "    }\n",
              "\n",
              "    .colab-df-convert {\n",
              "      background-color: #E8F0FE;\n",
              "      border: none;\n",
              "      border-radius: 50%;\n",
              "      cursor: pointer;\n",
              "      display: none;\n",
              "      fill: #1967D2;\n",
              "      height: 32px;\n",
              "      padding: 0 0 0 0;\n",
              "      width: 32px;\n",
              "    }\n",
              "\n",
              "    .colab-df-convert:hover {\n",
              "      background-color: #E2EBFA;\n",
              "      box-shadow: 0px 1px 2px rgba(60, 64, 67, 0.3), 0px 1px 3px 1px rgba(60, 64, 67, 0.15);\n",
              "      fill: #174EA6;\n",
              "    }\n",
              "\n",
              "    [theme=dark] .colab-df-convert {\n",
              "      background-color: #3B4455;\n",
              "      fill: #D2E3FC;\n",
              "    }\n",
              "\n",
              "    [theme=dark] .colab-df-convert:hover {\n",
              "      background-color: #434B5C;\n",
              "      box-shadow: 0px 1px 3px 1px rgba(0, 0, 0, 0.15);\n",
              "      filter: drop-shadow(0px 1px 2px rgba(0, 0, 0, 0.3));\n",
              "      fill: #FFFFFF;\n",
              "    }\n",
              "  </style>\n",
              "\n",
              "      <script>\n",
              "        const buttonEl =\n",
              "          document.querySelector('#df-9ada5a50-f8f8-41a7-841f-94e600e72001 button.colab-df-convert');\n",
              "        buttonEl.style.display =\n",
              "          google.colab.kernel.accessAllowed ? 'block' : 'none';\n",
              "\n",
              "        async function convertToInteractive(key) {\n",
              "          const element = document.querySelector('#df-9ada5a50-f8f8-41a7-841f-94e600e72001');\n",
              "          const dataTable =\n",
              "            await google.colab.kernel.invokeFunction('convertToInteractive',\n",
              "                                                     [key], {});\n",
              "          if (!dataTable) return;\n",
              "\n",
              "          const docLinkHtml = 'Like what you see? Visit the ' +\n",
              "            '<a target=\"_blank\" href=https://colab.research.google.com/notebooks/data_table.ipynb>data table notebook</a>'\n",
              "            + ' to learn more about interactive tables.';\n",
              "          element.innerHTML = '';\n",
              "          dataTable['output_type'] = 'display_data';\n",
              "          await google.colab.output.renderOutput(dataTable, element);\n",
              "          const docLink = document.createElement('div');\n",
              "          docLink.innerHTML = docLinkHtml;\n",
              "          element.appendChild(docLink);\n",
              "        }\n",
              "      </script>\n",
              "    </div>\n",
              "  </div>\n",
              "  "
            ]
          },
          "metadata": {},
          "execution_count": 19
        }
      ]
    },
    {
      "cell_type": "markdown",
      "source": [
        "5. Recorremos las intersecciones para ver las que no se repitan.\n",
        "\n",
        "    Mostramos el arreglo de las calles."
      ],
      "metadata": {
        "id": "QbDSkFK25q9T"
      }
    },
    {
      "cell_type": "code",
      "source": [
        "nomcalle = intersecciones['NOMBRE'].unique()\n",
        "print(len(nomcalle))\n",
        "nomcalle"
      ],
      "metadata": {
        "colab": {
          "base_uri": "https://localhost:8080/"
        },
        "id": "Lm9tI4QZ6T99",
        "outputId": "cbfc0a66-7340-48e5-ff02-5d16de3d0205"
      },
      "execution_count": 7,
      "outputs": [
        {
          "output_type": "stream",
          "name": "stdout",
          "text": [
            "55\n"
          ]
        },
        {
          "output_type": "execute_result",
          "data": {
            "text/plain": [
              "array(['PLAZA 2 DE MAYO', 'PLAZA RAMON CASTILLA', 'ALFONSO UGARTE',\n",
              "       'PLAZA FRANCISCO BOLOGNESI', 'PUENTE DEL EJERCITO',\n",
              "       'VICENTE MORALES DUAREZ', 'CIRCUNVALACION', 'AVENIDA CAQUETA',\n",
              "       'AV. ZARUMILLA', 'HECTOR GARCIA RIBEYRO', 'EL TREBOL',\n",
              "       'AVENIDA TUPAC AMARU', 'FRANCISO PIZARRO',\n",
              "       'DIEGO CORDOVA DE SALINAS', 'MARACAIBO', 'AV. PANAMERICANA NORTE',\n",
              "       'VIA DE EVITAMIENTO', 'AV. JOSÉ GRANDA', 'AVENIDA ARGENTINA',\n",
              "       'EMANCIPACION', 'OSCAR BENAVIDES', 'AVENIDA ENRIQUE FERMI',\n",
              "       'AV. FRANCISO BOLOGNESI', 'AV. ANGÉLICA GAMARRA', 'AV. INDUSTRIAL',\n",
              "       'CALLE GERARDO UNGER', 'NARANJAL', 'AV. NARANJAL', 'AV. BOCANEGRA',\n",
              "       'AV. SANTIAGO ANTUNEZ DE MAYOLO', 'AV. LAS PALMERAS',\n",
              "       'AV. LOS DOMINICOS', 'AV. SAENZ PEÑA',\n",
              "       'ALEJANDRO BERTELLO BOLLATI', 'AVENIDA PERU', 'AV. PERÚ',\n",
              "       'AV. 9 DE OCTUBRE', 'ABANCAY', 'METROPOLITANA',\n",
              "       'AV. UNIVERSITARIA', 'AV. TOMAS VALLE', 'JOSE GRANDA',\n",
              "       'AV. CANTA CALLAO', 'AVENIDA UNIVERSITARIA',\n",
              "       'AURELIO MIRO QUESADA', 'ORRANTIA', 'SANTA CRUZ',\n",
              "       'REPUBLICA DE PANAMA', 'AV. ARAMBURÚ', 'PLACENCIA',\n",
              "       'LIZARDO ALZAMORA ESTE', 'LA NIÑA', 'CAVERO', 'SANTA MARIA',\n",
              "       'RAYMUNDO MORALES DE LA TORRE'], dtype=object)"
            ]
          },
          "metadata": {},
          "execution_count": 7
        }
      ]
    },
    {
      "cell_type": "markdown",
      "source": [
        "6. Creamos un diccionario para cada calle\n",
        "\n",
        "    Mostramos cuando veces se repite una calle"
      ],
      "metadata": {
        "id": "v3TpXlkS55Uc"
      }
    },
    {
      "cell_type": "code",
      "source": [
        "calles = dict()\n",
        "for nom in nomcalle:\n",
        "  calles[nom] = intersecciones[intersecciones['NOMBRE'] == nom]\n",
        "  print(nom, len(calles[nom]))"
      ],
      "metadata": {
        "colab": {
          "base_uri": "https://localhost:8080/"
        },
        "id": "cijgc8LZ7GD-",
        "outputId": "9c3e8108-6f16-45ff-b7ae-70b42624c906"
      },
      "execution_count": 8,
      "outputs": [
        {
          "output_type": "stream",
          "name": "stdout",
          "text": [
            "PLAZA 2 DE MAYO 11\n",
            "PLAZA RAMON CASTILLA 1\n",
            "ALFONSO UGARTE 37\n",
            "PLAZA FRANCISCO BOLOGNESI 15\n",
            "PUENTE DEL EJERCITO 2\n",
            "VICENTE MORALES DUAREZ 31\n",
            "CIRCUNVALACION 3\n",
            "AVENIDA CAQUETA 14\n",
            "AV. ZARUMILLA 3\n",
            "HECTOR GARCIA RIBEYRO 1\n",
            "EL TREBOL 6\n",
            "AVENIDA TUPAC AMARU 54\n",
            "FRANCISO PIZARRO 21\n",
            "DIEGO CORDOVA DE SALINAS 6\n",
            "MARACAIBO 11\n",
            "AV. PANAMERICANA NORTE 11\n",
            "VIA DE EVITAMIENTO 14\n",
            "AV. JOSÉ GRANDA 36\n",
            "AVENIDA ARGENTINA 13\n",
            "EMANCIPACION 5\n",
            "OSCAR BENAVIDES 24\n",
            "AVENIDA ENRIQUE FERMI 6\n",
            "AV. FRANCISO BOLOGNESI 9\n",
            "AV. ANGÉLICA GAMARRA 44\n",
            "AV. INDUSTRIAL 24\n",
            "CALLE GERARDO UNGER 19\n",
            "NARANJAL 7\n",
            "AV. NARANJAL 10\n",
            "AV. BOCANEGRA 20\n",
            "AV. SANTIAGO ANTUNEZ DE MAYOLO 44\n",
            "AV. LAS PALMERAS 39\n",
            "AV. LOS DOMINICOS 22\n",
            "AV. SAENZ PEÑA 4\n",
            "ALEJANDRO BERTELLO BOLLATI 21\n",
            "AVENIDA PERU 16\n",
            "AV. PERÚ 19\n",
            "AV. 9 DE OCTUBRE 10\n",
            "ABANCAY 17\n",
            "METROPOLITANA 24\n",
            "AV. UNIVERSITARIA 170\n",
            "AV. TOMAS VALLE 26\n",
            "JOSE GRANDA 8\n",
            "AV. CANTA CALLAO 33\n",
            "AVENIDA UNIVERSITARIA 28\n",
            "AURELIO MIRO QUESADA 14\n",
            "ORRANTIA 5\n",
            "SANTA CRUZ 10\n",
            "REPUBLICA DE PANAMA 3\n",
            "AV. ARAMBURÚ 4\n",
            "PLACENCIA 5\n",
            "LIZARDO ALZAMORA ESTE 9\n",
            "LA NIÑA 1\n",
            "CAVERO 3\n",
            "SANTA MARIA 1\n",
            "RAYMUNDO MORALES DE LA TORRE 6\n"
          ]
        }
      ]
    },
    {
      "cell_type": "markdown",
      "source": [
        "7. Se escribe las calles por las que queremos encontrar el camino más corto "
      ],
      "metadata": {
        "id": "15GnI2O76D51"
      }
    },
    {
      "cell_type": "code",
      "source": [
        "#@title Calle 1\n",
        "Cal1 = \"Plaza 2 de mayo\" #@param {type:\"string\"}\n",
        "Cal1.upper()"
      ],
      "metadata": {
        "id": "s9R0pUqt3TDO"
      },
      "execution_count": null,
      "outputs": []
    },
    {
      "cell_type": "code",
      "source": [
        "#@title Calle 2\n",
        "Cal2 = \"Metropolitana\" #@param {type:\"string\"}\n",
        "Cal2.upper()"
      ],
      "metadata": {
        "id": "Tqgm3ktK3q9H"
      },
      "execution_count": null,
      "outputs": []
    },
    {
      "cell_type": "markdown",
      "source": [
        "8. Calculamos la distancia de las calles, utilizando la latitud y longitud del origen y destino"
      ],
      "metadata": {
        "id": "ksm9AmmF6ari"
      }
    },
    {
      "cell_type": "code",
      "source": [
        "def distancia(cal1, call2):\n",
        "  la1, lo1 = float(Cal1['LATITUD ORIGEN']), float(Cal1['LONGITUD ORIGEN'])\n",
        "  la2, lo2 = float(Cal2['LATITUD DESTINO']), float(Cal2['LONGITUD DESTINO'])\n",
        "  \n",
        "  lo1, la1, lo2, la2 = map(math.radians, [lo1, la1, lo2, la2])\n",
        "  dlo = lo2 - lo1\n",
        "  dla = la2 - la1\n",
        "  a = math.sin(dla/2)**2 + math.cos(la1) * math.cos(la2) * math.sin(dlo/2)**2\n",
        "  c = 2 * math.asin(math.sqrt(a))\n",
        "  r = 6371\n",
        "\n",
        "  return round(c * r, 2)"
      ],
      "metadata": {
        "id": "YxRbWGJY5dnH"
      },
      "execution_count": 9,
      "outputs": []
    },
    {
      "cell_type": "markdown",
      "source": [
        "9. Mostramos el camino y la distancia más corta que resultó entre ambas calles "
      ],
      "metadata": {
        "id": "CpycYbsd6hH1"
      }
    },
    {
      "cell_type": "code",
      "source": [
        "G = nx.Graph()\n",
        "call = 'NOMBRE'\n",
        "for i, cal1 in calles():\n",
        "  G.add_node(i, label=cal1[call])\n",
        "\n",
        "for i, cal1 in calles():\n",
        "  for j, cal2 in calles():\n",
        "    if cal1[call] != cal2[call]:\n",
        "      G.add_edge(i, j, weight=distancia(cal1, cal2))"
      ],
      "metadata": {
        "id": "rayc9r2JpqTg"
      },
      "execution_count": null,
      "outputs": []
    }
  ]
}